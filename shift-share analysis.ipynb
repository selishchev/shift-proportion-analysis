{
 "cells": [
  {
   "cell_type": "code",
   "execution_count": 10,
   "metadata": {},
   "outputs": [],
   "source": [
    "import pandas as pd\n",
    "import numpy as np\n",
    "import matplotlib.pyplot as plt\n",
    "%matplotlib inline"
   ]
  },
  {
   "cell_type": "code",
   "execution_count": 11,
   "metadata": {},
   "outputs": [],
   "source": [
    "sfo_stat_t = pd.read_excel('C:\\\\Users\\Polzovatel\\Desktop\\SFO_stat.xlsx')"
   ]
  },
  {
   "cell_type": "code",
   "execution_count": 12,
   "metadata": {},
   "outputs": [
    {
     "data": {
      "text/html": [
       "<div>\n",
       "<style scoped>\n",
       "    .dataframe tbody tr th:only-of-type {\n",
       "        vertical-align: middle;\n",
       "    }\n",
       "\n",
       "    .dataframe tbody tr th {\n",
       "        vertical-align: top;\n",
       "    }\n",
       "\n",
       "    .dataframe thead th {\n",
       "        text-align: right;\n",
       "    }\n",
       "</style>\n",
       "<table border=\"1\" class=\"dataframe\">\n",
       "  <thead>\n",
       "    <tr style=\"text-align: right;\">\n",
       "      <th></th>\n",
       "      <th>СРЕДНЕГОДОВАЯ ЧИСЛЕННОСТЬ ЗАНЯТЫХ ПО ВИДАМ ЭКОНОМИЧЕСКОЙ ДЕЯТЕЛЬНОСТИ\\n(тысяч человек)\\n2018</th>\n",
       "      <th>Сельское, лесное хозяйство, охота, рыболовство и рыбоводство</th>\n",
       "      <th>Добыча полезных ископаемых</th>\n",
       "      <th>Обрабатывающие производства</th>\n",
       "      <th>Строи-тельство</th>\n",
       "      <th>Торговля оптовая и розничная; ремонт автотранспортных средств и мотоциклов</th>\n",
       "      <th>Транспортировка и хранение</th>\n",
       "      <th>Деятельность гостиниц и предприятий общественного питания</th>\n",
       "      <th>Деятельность в области информации и связи</th>\n",
       "      <th>Деятельность по операциям с недвижимым имуществом</th>\n",
       "      <th>Образо-вание</th>\n",
       "      <th>Деятельность в области здравоохранения и социальных услуг</th>\n",
       "    </tr>\n",
       "  </thead>\n",
       "  <tbody>\n",
       "    <tr>\n",
       "      <th>0</th>\n",
       "      <td>Российская Федерация</td>\n",
       "      <td>4936.6</td>\n",
       "      <td>1141.7</td>\n",
       "      <td>10066.8</td>\n",
       "      <td>6390.8</td>\n",
       "      <td>13669.9</td>\n",
       "      <td>5353.1</td>\n",
       "      <td>1721.9</td>\n",
       "      <td>1463.8</td>\n",
       "      <td>1926.8</td>\n",
       "      <td>5455.6</td>\n",
       "      <td>4404.0</td>\n",
       "    </tr>\n",
       "    <tr>\n",
       "      <th>1</th>\n",
       "      <td>Сибирский федеральный округ</td>\n",
       "      <td>581.1</td>\n",
       "      <td>218.7</td>\n",
       "      <td>1010.7</td>\n",
       "      <td>566.2</td>\n",
       "      <td>1406.1</td>\n",
       "      <td>600.8</td>\n",
       "      <td>165.0</td>\n",
       "      <td>146.0</td>\n",
       "      <td>218.8</td>\n",
       "      <td>723.5</td>\n",
       "      <td>569.8</td>\n",
       "    </tr>\n",
       "  </tbody>\n",
       "</table>\n",
       "</div>"
      ],
      "text/plain": [
       "  СРЕДНЕГОДОВАЯ ЧИСЛЕННОСТЬ ЗАНЯТЫХ ПО ВИДАМ ЭКОНОМИЧЕСКОЙ ДЕЯТЕЛЬНОСТИ\\n(тысяч человек)\\n2018  \\\n",
       "0                               Российская Федерация                                             \n",
       "1                        Сибирский федеральный округ                                             \n",
       "\n",
       "   Сельское, лесное хозяйство, охота, рыболовство и рыбоводство  \\\n",
       "0                                             4936.6              \n",
       "1                                              581.1              \n",
       "\n",
       "   Добыча полезных ископаемых  Обрабатывающие производства  Строи-тельство  \\\n",
       "0                      1141.7                      10066.8          6390.8   \n",
       "1                       218.7                       1010.7           566.2   \n",
       "\n",
       "   Торговля оптовая и розничная; ремонт автотранспортных средств и мотоциклов  \\\n",
       "0                                            13669.9                            \n",
       "1                                             1406.1                            \n",
       "\n",
       "   Транспортировка и хранение  \\\n",
       "0                      5353.1   \n",
       "1                       600.8   \n",
       "\n",
       "   Деятельность гостиниц и предприятий общественного питания  \\\n",
       "0                                             1721.9           \n",
       "1                                              165.0           \n",
       "\n",
       "   Деятельность в области информации и связи  \\\n",
       "0                                     1463.8   \n",
       "1                                      146.0   \n",
       "\n",
       "   Деятельность по операциям с недвижимым имуществом  Образо-вание  \\\n",
       "0                                             1926.8        5455.6   \n",
       "1                                              218.8         723.5   \n",
       "\n",
       "   Деятельность в области здравоохранения и социальных услуг  \n",
       "0                                             4404.0          \n",
       "1                                              569.8          "
      ]
     },
     "execution_count": 12,
     "metadata": {},
     "output_type": "execute_result"
    }
   ],
   "source": [
    "sfo_stat_t"
   ]
  },
  {
   "cell_type": "code",
   "execution_count": 13,
   "metadata": {},
   "outputs": [],
   "source": [
    "sfo_stat_0 = pd.read_excel('C:\\\\Users\\Polzovatel\\Desktop\\SFO_stat.xlsx', sheet_name=1)"
   ]
  },
  {
   "cell_type": "code",
   "execution_count": 14,
   "metadata": {},
   "outputs": [
    {
     "data": {
      "text/html": [
       "<div>\n",
       "<style scoped>\n",
       "    .dataframe tbody tr th:only-of-type {\n",
       "        vertical-align: middle;\n",
       "    }\n",
       "\n",
       "    .dataframe tbody tr th {\n",
       "        vertical-align: top;\n",
       "    }\n",
       "\n",
       "    .dataframe thead th {\n",
       "        text-align: right;\n",
       "    }\n",
       "</style>\n",
       "<table border=\"1\" class=\"dataframe\">\n",
       "  <thead>\n",
       "    <tr style=\"text-align: right;\">\n",
       "      <th></th>\n",
       "      <th>2013</th>\n",
       "      <th>Сельское хозяйство, охота и лесное хозяйство; рыболовство, рыбоводство</th>\n",
       "      <th>Добыча полезных ископаемых</th>\n",
       "      <th>Обрабатывающие производства</th>\n",
       "      <th>Строительство</th>\n",
       "      <th>Торговля оптовая и розничная; ремонт автотранспортных средств и мотоциклов</th>\n",
       "      <th>Транспортировка и хранение</th>\n",
       "      <th>Деятельность гостиниц и предприятий общественного питания</th>\n",
       "      <th>Деятельность в области информации и связи</th>\n",
       "      <th>Деятельность по операциям с недвижимым имуществом</th>\n",
       "      <th>Образование</th>\n",
       "      <th>Деятельность в области здравоохранения и социальных услуг</th>\n",
       "    </tr>\n",
       "  </thead>\n",
       "  <tbody>\n",
       "    <tr>\n",
       "      <th>0</th>\n",
       "      <td>Российская Федерация</td>\n",
       "      <td>6502.9</td>\n",
       "      <td>1074.6</td>\n",
       "      <td>10065.4</td>\n",
       "      <td>5711.9</td>\n",
       "      <td>12407.5</td>\n",
       "      <td>4564.5</td>\n",
       "      <td>1267.5</td>\n",
       "      <td>855.8</td>\n",
       "      <td>5815.0</td>\n",
       "      <td>5570.2</td>\n",
       "      <td>4523.4</td>\n",
       "    </tr>\n",
       "    <tr>\n",
       "      <th>1</th>\n",
       "      <td>Сибирский федеральный округ</td>\n",
       "      <td>924.4</td>\n",
       "      <td>260.0</td>\n",
       "      <td>1138.3</td>\n",
       "      <td>647.5</td>\n",
       "      <td>1530.0</td>\n",
       "      <td>696.3</td>\n",
       "      <td>161.0</td>\n",
       "      <td>121.1</td>\n",
       "      <td>722.3</td>\n",
       "      <td>825.3</td>\n",
       "      <td>672.4</td>\n",
       "    </tr>\n",
       "  </tbody>\n",
       "</table>\n",
       "</div>"
      ],
      "text/plain": [
       "                          2013  \\\n",
       "0         Российская Федерация   \n",
       "1  Сибирский федеральный округ   \n",
       "\n",
       "   Сельское хозяйство, охота и лесное хозяйство; рыболовство, рыбоводство  \\\n",
       "0                                             6502.9                        \n",
       "1                                              924.4                        \n",
       "\n",
       "   Добыча полезных ископаемых  Обрабатывающие производства  Строительство  \\\n",
       "0                      1074.6                      10065.4         5711.9   \n",
       "1                       260.0                       1138.3          647.5   \n",
       "\n",
       "   Торговля оптовая и розничная; ремонт автотранспортных средств и мотоциклов  \\\n",
       "0                                            12407.5                            \n",
       "1                                             1530.0                            \n",
       "\n",
       "   Транспортировка и хранение  \\\n",
       "0                      4564.5   \n",
       "1                       696.3   \n",
       "\n",
       "   Деятельность гостиниц и предприятий общественного питания  \\\n",
       "0                                             1267.5           \n",
       "1                                              161.0           \n",
       "\n",
       "   Деятельность в области информации и связи  \\\n",
       "0                                      855.8   \n",
       "1                                      121.1   \n",
       "\n",
       "   Деятельность по операциям с недвижимым имуществом  Образование  \\\n",
       "0                                             5815.0       5570.2   \n",
       "1                                              722.3        825.3   \n",
       "\n",
       "   Деятельность в области здравоохранения и социальных услуг  \n",
       "0                                             4523.4          \n",
       "1                                              672.4          "
      ]
     },
     "execution_count": 14,
     "metadata": {},
     "output_type": "execute_result"
    }
   ],
   "source": [
    "sfo_stat_0"
   ]
  },
  {
   "cell_type": "code",
   "execution_count": 15,
   "metadata": {},
   "outputs": [],
   "source": [
    "main_sfo_stat_0 = sfo_stat_0.iloc[0:2]"
   ]
  },
  {
   "cell_type": "code",
   "execution_count": 16,
   "metadata": {},
   "outputs": [],
   "source": [
    "main_sfo_stat_t = sfo_stat_t.iloc[0:2]"
   ]
  },
  {
   "cell_type": "code",
   "execution_count": 17,
   "metadata": {},
   "outputs": [],
   "source": [
    "stats_rf_0 = []\n",
    "stats_sfo_0 = []\n",
    "\n",
    "for i in range(1, 12):\n",
    "    stats_rf_0.append(main_sfo_stat_0.iat[0, i])\n",
    "\n",
    "for i in range(1, 12):\n",
    "    stats_sfo_0.append(main_sfo_stat_0.iat[1, i])"
   ]
  },
  {
   "cell_type": "code",
   "execution_count": 18,
   "metadata": {},
   "outputs": [],
   "source": [
    "stats_rf_t = []\n",
    "stats_sfo_t = []\n",
    "\n",
    "for i in range(1, 12):\n",
    "    stats_rf_t.append(main_sfo_stat_t.iat[0, i])\n",
    "\n",
    "for i in range(1, 12):\n",
    "    stats_sfo_t.append(main_sfo_stat_t.iat[1, i])"
   ]
  },
  {
   "cell_type": "code",
   "execution_count": 19,
   "metadata": {},
   "outputs": [
    {
     "data": {
      "text/plain": [
       "[6502.9,\n",
       " 1074.6,\n",
       " 10065.4,\n",
       " 5711.9,\n",
       " 12407.5,\n",
       " 4564.5,\n",
       " 1267.5,\n",
       " 855.8,\n",
       " 5815.0,\n",
       " 5570.2,\n",
       " 4523.4]"
      ]
     },
     "execution_count": 19,
     "metadata": {},
     "output_type": "execute_result"
    }
   ],
   "source": [
    "stats_rf_0"
   ]
  },
  {
   "cell_type": "code",
   "execution_count": 20,
   "metadata": {},
   "outputs": [],
   "source": [
    "growth_sfo = []\n",
    "for i, j in zip(stats_sfo_0, stats_sfo_t):\n",
    "    growth_sfo.append(j/i)\n",
    "growth_sfo = list(np.around(growth_sfo, decimals=3))"
   ]
  },
  {
   "cell_type": "code",
   "execution_count": 21,
   "metadata": {},
   "outputs": [
    {
     "data": {
      "text/plain": [
       "[0.629, 0.841, 0.888, 0.874, 0.919, 0.863, 1.025, 1.206, 0.303, 0.877, 0.847]"
      ]
     },
     "execution_count": 21,
     "metadata": {},
     "output_type": "execute_result"
    }
   ],
   "source": [
    "growth_sfo"
   ]
  },
  {
   "cell_type": "code",
   "execution_count": 22,
   "metadata": {},
   "outputs": [],
   "source": [
    "growth_rf = []\n",
    "for i, j in zip(stats_rf_0, stats_rf_t):\n",
    "    growth_rf.append(j/i)\n",
    "growth_rf = list(np.around(growth_rf, decimals=3))"
   ]
  },
  {
   "cell_type": "code",
   "execution_count": 23,
   "metadata": {},
   "outputs": [
    {
     "data": {
      "text/plain": [
       "[0.759, 1.062, 1.0, 1.119, 1.102, 1.173, 1.359, 1.71, 0.331, 0.979, 0.974]"
      ]
     },
     "execution_count": 23,
     "metadata": {},
     "output_type": "execute_result"
    }
   ],
   "source": [
    "growth_rf"
   ]
  },
  {
   "cell_type": "code",
   "execution_count": 24,
   "metadata": {},
   "outputs": [],
   "source": [
    "forecast_nat_industries = []\n",
    "for i, j in zip(growth_rf, stats_sfo_0):\n",
    "    forecast_nat_industries.append(i*j)\n",
    "forecast_nat_industries = list(np.around(forecast_nat_industries, decimals=3))"
   ]
  },
  {
   "cell_type": "code",
   "execution_count": 25,
   "metadata": {
    "scrolled": false
   },
   "outputs": [
    {
     "data": {
      "text/plain": [
       "[701.62,\n",
       " 276.12,\n",
       " 1138.3,\n",
       " 724.552,\n",
       " 1686.06,\n",
       " 816.76,\n",
       " 218.799,\n",
       " 207.081,\n",
       " 239.081,\n",
       " 807.969,\n",
       " 654.918]"
      ]
     },
     "execution_count": 25,
     "metadata": {},
     "output_type": "execute_result"
    }
   ],
   "source": [
    "forecast_nat_industries"
   ]
  },
  {
   "cell_type": "code",
   "execution_count": 26,
   "metadata": {},
   "outputs": [],
   "source": [
    "differential_shift = []\n",
    "for i, j in zip(stats_sfo_t, forecast_nat_industries):\n",
    "    differential_shift.append(i-j)\n",
    "differential_shift = list(np.around(differential_shift, decimals=3))"
   ]
  },
  {
   "cell_type": "code",
   "execution_count": 27,
   "metadata": {},
   "outputs": [
    {
     "data": {
      "text/plain": [
       "[-120.52,\n",
       " -57.42,\n",
       " -127.6,\n",
       " -158.352,\n",
       " -279.96,\n",
       " -215.96,\n",
       " -53.799,\n",
       " -61.081,\n",
       " -20.281,\n",
       " -84.469,\n",
       " -85.118]"
      ]
     },
     "execution_count": 27,
     "metadata": {},
     "output_type": "execute_result"
    }
   ],
   "source": [
    "differential_shift"
   ]
  },
  {
   "cell_type": "code",
   "execution_count": 28,
   "metadata": {},
   "outputs": [],
   "source": [
    "forecast_nat_economy = []\n",
    "for i in stats_sfo_0:\n",
    "    forecast_nat_economy.append(sum(stats_rf_t)/sum(stats_rf_0)*i)\n",
    "forecast_nat_economy = list(np.around(forecast_nat_economy, decimals=3))"
   ]
  },
  {
   "cell_type": "code",
   "execution_count": 29,
   "metadata": {},
   "outputs": [
    {
     "data": {
      "text/plain": [
       "[895.449,\n",
       " 251.857,\n",
       " 1102.65,\n",
       " 627.221,\n",
       " 1482.083,\n",
       " 674.493,\n",
       " 155.958,\n",
       " 117.307,\n",
       " 699.679,\n",
       " 799.453,\n",
       " 651.342]"
      ]
     },
     "execution_count": 29,
     "metadata": {},
     "output_type": "execute_result"
    }
   ],
   "source": [
    "forecast_nat_economy"
   ]
  },
  {
   "cell_type": "code",
   "execution_count": 30,
   "metadata": {},
   "outputs": [],
   "source": [
    "proportional_shift = []\n",
    "for i, j in zip(forecast_nat_industries, forecast_nat_economy):\n",
    "    proportional_shift.append(i-j)\n",
    "proportional_shift = list(np.around(proportional_shift, decimals=3))"
   ]
  },
  {
   "cell_type": "code",
   "execution_count": 31,
   "metadata": {},
   "outputs": [
    {
     "data": {
      "text/plain": [
       "[-193.829,\n",
       " 24.263,\n",
       " 35.65,\n",
       " 97.331,\n",
       " 203.977,\n",
       " 142.267,\n",
       " 62.841,\n",
       " 89.774,\n",
       " -460.598,\n",
       " 8.516,\n",
       " 3.576]"
      ]
     },
     "execution_count": 31,
     "metadata": {},
     "output_type": "execute_result"
    }
   ],
   "source": [
    "proportional_shift"
   ]
  },
  {
   "cell_type": "code",
   "execution_count": 32,
   "metadata": {},
   "outputs": [],
   "source": [
    "sum_differential_shift = sum(differential_shift)"
   ]
  },
  {
   "cell_type": "code",
   "execution_count": 33,
   "metadata": {},
   "outputs": [],
   "source": [
    "sum_proportional_shift = sum(proportional_shift)"
   ]
  },
  {
   "cell_type": "code",
   "execution_count": 34,
   "metadata": {},
   "outputs": [],
   "source": [
    "real_shift = float(np.around(sum_differential_shift + sum_proportional_shift, decimals=3))"
   ]
  },
  {
   "cell_type": "code",
   "execution_count": 35,
   "metadata": {},
   "outputs": [
    {
     "data": {
      "text/plain": [
       "-1250.792"
      ]
     },
     "execution_count": 35,
     "metadata": {},
     "output_type": "execute_result"
    }
   ],
   "source": [
    "real_shift"
   ]
  },
  {
   "cell_type": "code",
   "execution_count": 36,
   "metadata": {},
   "outputs": [],
   "source": [
    "relative_real_shift = float(np.around(real_shift / sum(stats_sfo_0), decimals=4))"
   ]
  },
  {
   "cell_type": "code",
   "execution_count": 37,
   "metadata": {},
   "outputs": [
    {
     "data": {
      "text/plain": [
       "-0.1625"
      ]
     },
     "execution_count": 37,
     "metadata": {},
     "output_type": "execute_result"
    }
   ],
   "source": [
    "relative_real_shift"
   ]
  },
  {
   "cell_type": "code",
   "execution_count": 38,
   "metadata": {},
   "outputs": [],
   "source": [
    "relative_differential_shift = float(np.around(sum_differential_shift / sum(stats_sfo_0), decimals=4))"
   ]
  },
  {
   "cell_type": "code",
   "execution_count": 39,
   "metadata": {},
   "outputs": [
    {
     "data": {
      "text/plain": [
       "-0.1643"
      ]
     },
     "execution_count": 39,
     "metadata": {},
     "output_type": "execute_result"
    }
   ],
   "source": [
    "relative_differential_shift"
   ]
  },
  {
   "cell_type": "code",
   "execution_count": 40,
   "metadata": {},
   "outputs": [],
   "source": [
    "relative_proportional_shift = float(np.around(sum_proportional_shift / sum(stats_sfo_0), decimals=4))"
   ]
  },
  {
   "cell_type": "code",
   "execution_count": 41,
   "metadata": {},
   "outputs": [
    {
     "data": {
      "text/plain": [
       "0.0018"
      ]
     },
     "execution_count": 41,
     "metadata": {},
     "output_type": "execute_result"
    }
   ],
   "source": [
    "relative_proportional_shift"
   ]
  },
  {
   "cell_type": "code",
   "execution_count": 42,
   "metadata": {},
   "outputs": [
    {
     "data": {
      "text/plain": [
       "'-19.38%'"
      ]
     },
     "execution_count": 42,
     "metadata": {},
     "output_type": "execute_result"
    }
   ],
   "source": [
    "Y_sfo = float(np.around((sum(stats_sfo_t) / sum(stats_sfo_0) - 1) * 100, decimals=2))\n",
    "'{}%'.format(Y_sfo)"
   ]
  },
  {
   "cell_type": "code",
   "execution_count": 43,
   "metadata": {},
   "outputs": [
    {
     "data": {
      "text/plain": [
       "'-3.13%'"
      ]
     },
     "execution_count": 43,
     "metadata": {},
     "output_type": "execute_result"
    }
   ],
   "source": [
    "Y_rf = float(np.around((sum(stats_rf_t) / sum(stats_rf_0) - 1) * 100, decimals=2))\n",
    "'{}%'.format(Y_rf)"
   ]
  },
  {
   "cell_type": "code",
   "execution_count": 44,
   "metadata": {},
   "outputs": [
    {
     "data": {
      "text/plain": [
       "'-16.25%'"
      ]
     },
     "execution_count": 44,
     "metadata": {},
     "output_type": "execute_result"
    }
   ],
   "source": [
    "S_a = float(np.around(relative_real_shift * 100, decimals=2))\n",
    "'{}%'.format(S_a)"
   ]
  },
  {
   "cell_type": "code",
   "execution_count": 45,
   "metadata": {},
   "outputs": [
    {
     "name": "stdout",
     "output_type": "stream",
     "text": [
      "Y_sfo = Y_rf + S_a\n",
      "-19.38% = -3.13% + -16.25%\n"
     ]
    }
   ],
   "source": [
    "print('Y_sfo = Y_rf + S_a')\n",
    "print('{}% = {}% + {}%'.format(Y_sfo, Y_rf, S_a))"
   ]
  },
  {
   "cell_type": "code",
   "execution_count": 46,
   "metadata": {},
   "outputs": [],
   "source": [
    "rate_of_increase_sfo = []\n",
    "rate_of_increase_rf = []\n",
    "for i in growth_sfo:\n",
    "    rate_of_increase_sfo.append(float(np.around((i-1)*100, decimals=2)))\n",
    "for i in growth_rf:\n",
    "    rate_of_increase_rf.append(float(np.around((i-1)*100, decimals=2)))"
   ]
  },
  {
   "cell_type": "code",
   "execution_count": 47,
   "metadata": {},
   "outputs": [
    {
     "data": {
      "text/plain": [
       "[-37.1, -15.9, -11.2, -12.6, -8.1, -13.7, 2.5, 20.6, -69.7, -12.3, -15.3]"
      ]
     },
     "execution_count": 47,
     "metadata": {},
     "output_type": "execute_result"
    }
   ],
   "source": [
    "# в процентах\n",
    "rate_of_increase_sfo"
   ]
  },
  {
   "cell_type": "code",
   "execution_count": 48,
   "metadata": {},
   "outputs": [
    {
     "data": {
      "text/plain": [
       "[-24.1, 6.2, 0.0, 11.9, 10.2, 17.3, 35.9, 71.0, -66.9, -2.1, -2.6]"
      ]
     },
     "execution_count": 48,
     "metadata": {},
     "output_type": "execute_result"
    }
   ],
   "source": [
    "# в процентах\n",
    "rate_of_increase_rf"
   ]
  },
  {
   "cell_type": "code",
   "execution_count": 49,
   "metadata": {},
   "outputs": [],
   "source": [
    "def classification_of_Boudeville(rel_prop_shift, rel_diff_shift):\n",
    "    if rel_prop_shift > 0:\n",
    "        if rel_diff_shift > 0:\n",
    "            if abs(rel_prop_shift) > abs(rel_diff_shift):\n",
    "                return '1'\n",
    "            else:\n",
    "                return '2'\n",
    "        else:\n",
    "            if abs(rel_prop_shift) > abs(rel_diff_shift):\n",
    "                return '4'\n",
    "            else:\n",
    "                return '5'\n",
    "    else:\n",
    "        if rel_diff_shift > 0:\n",
    "            if abs(rel_prop_shift) > abs(rel_diff_shift):\n",
    "                return '6'\n",
    "            else:\n",
    "                return '3'\n",
    "        else:\n",
    "            if abs(rel_prop_shift) > abs(rel_diff_shift):\n",
    "                return '8'\n",
    "            else:\n",
    "                return '7'"
   ]
  },
  {
   "cell_type": "code",
   "execution_count": 50,
   "metadata": {},
   "outputs": [
    {
     "data": {
      "text/plain": [
       "'5'"
      ]
     },
     "execution_count": 50,
     "metadata": {},
     "output_type": "execute_result"
    }
   ],
   "source": [
    "classification_of_Boudeville(relative_proportional_shift, relative_differential_shift)"
   ]
  },
  {
   "cell_type": "code",
   "execution_count": 51,
   "metadata": {},
   "outputs": [
    {
     "data": {
      "text/plain": [
       "['СРЕДНЕГОДОВАЯ ЧИСЛЕННОСТЬ ЗАНЯТЫХ ПО ВИДАМ ЭКОНОМИЧЕСКОЙ ДЕЯТЕЛЬНОСТИ\\n(тысяч человек)\\n2018',\n",
       " 'Сельское, лесное хозяйство, охота, рыболовство и рыбоводство',\n",
       " 'Добыча полезных ископаемых',\n",
       " 'Обрабатывающие производства',\n",
       " 'Строи-тельство',\n",
       " 'Торговля оптовая и розничная; ремонт автотранспортных средств и мотоциклов',\n",
       " 'Транспортировка и хранение',\n",
       " 'Деятельность гостиниц и предприятий общественного питания',\n",
       " 'Деятельность в области информации и связи',\n",
       " 'Деятельность по операциям с недвижимым имуществом',\n",
       " 'Образо-вание',\n",
       " 'Деятельность в области здравоохранения и социальных услуг']"
      ]
     },
     "execution_count": 51,
     "metadata": {},
     "output_type": "execute_result"
    }
   ],
   "source": [
    "industries = [str(x) for x in sfo_stat_t.columns]\n",
    "industries"
   ]
  },
  {
   "cell_type": "code",
   "execution_count": 52,
   "metadata": {},
   "outputs": [
    {
     "data": {
      "text/plain": [
       "<matplotlib.legend.Legend at 0x1c3141909c8>"
      ]
     },
     "execution_count": 52,
     "metadata": {},
     "output_type": "execute_result"
    },
    {
     "data": {
      "image/png": "[encoded data removed]",
      "text/plain": [
       "<Figure size 864x576 with 1 Axes>"
      ]
     },
     "metadata": {
      "needs_background": "light"
     },
     "output_type": "display_data"
    }
   ],
   "source": [
    "x = np.linspace(-70, 70, 50)\n",
    "y = np.linspace(-70, 70, 50)\n",
    "x1 = [Y_rf for i in y]\n",
    "y1 = [Y_sfo for i in x]\n",
    "fig, ax = plt.subplots(figsize=(12, 8))\n",
    "ax.set_title(\"Графический анализ структурных сдвигов\", fontsize=16)\n",
    "ax.set_xlabel(\"Темп роста национальной отрасли\", fontsize=14)        \n",
    "ax.set_ylabel(\"Темп роста отрасли в регионе\", fontsize=14)\n",
    "ax.grid(which=\"major\", linewidth=1.2)\n",
    "ax.grid(which=\"minor\", linestyle=\"--\", color=\"gray\", linewidth=0.5)\n",
    "ax.plot(x, y)\n",
    "ax.plot(x1, y, c='blue', label='Темп прироста нац. экономики')\n",
    "ax.plot(x, y1, c='red', label=\"Темп прироста рег. экономики\")\n",
    "ax.plot(x, x1, 'b--', label='Темп прироста нац. экономики')\n",
    "k = 1\n",
    "while k != 12:\n",
    "    for i, j in zip(rate_of_increase_rf, rate_of_increase_sfo):\n",
    "        ax.scatter(i, j, label=industries[k][:35])\n",
    "        k += 1\n",
    "ax.text(15, 50, 'A', fontsize='28')\n",
    "ax.text(50, 20, 'B', fontsize='28')\n",
    "ax.text(30, -15, 'C', fontsize='28')\n",
    "ax.text(-30, 30, 'D', fontsize='28')\n",
    "ax.text(-35, -15, 'E', fontsize='28')\n",
    "ax.text(-55, -35, 'F', fontsize='28')\n",
    "ax.text(-20, -50, 'G', fontsize='28')\n",
    "ax.legend(fontsize='x-small')\n"
   ]
  },
  {
   "cell_type": "code",
   "execution_count": null,
   "metadata": {},
   "outputs": [],
   "source": []
  }
 ],
 "metadata": {
  "kernelspec": {
   "display_name": "Python 3",
   "language": "python",
   "name": "python3"
  },
  "language_info": {
   "codemirror_mode": {
    "name": "ipython",
    "version": 3
   },
   "file_extension": ".py",
   "mimetype": "text/x-python",
   "name": "python",
   "nbconvert_exporter": "python",
   "pygments_lexer": "ipython3",
   "version": "3.7.6"
  }
 },
 "nbformat": 4,
 "nbformat_minor": 2
}
